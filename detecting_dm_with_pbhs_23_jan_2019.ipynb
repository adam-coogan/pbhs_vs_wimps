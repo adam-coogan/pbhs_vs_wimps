{
 "cells": [
  {
   "cell_type": "code",
   "execution_count": 1,
   "metadata": {},
   "outputs": [],
   "source": [
    "import matplotlib.pyplot as plt\n",
    "import numbers\n",
    "import numpy as np\n",
    "import scipy\n",
    "from scipy.integrate import quad\n",
    "from scipy import optimize\n",
    "from scipy import stats"
   ]
  },
  {
   "cell_type": "markdown",
   "metadata": {},
   "source": [
    "Notes/questions/to-do\n",
    "* In the case of $f \\sim 10^{-4} - 10^{-2}$, which is more constraining: $\\gamma$-ray point source or diffuse constraints? When can each be used?"
   ]
  },
  {
   "cell_type": "code",
   "execution_count": 3,
   "metadata": {
    "code_folding": [
     50,
     83
    ]
   },
   "outputs": [],
   "source": [
    "kpc_to_cm = 3.086e21  # 1 kpc in cm\n",
    "cm_to_kpc = 1 / kpc_to_cm\n",
    "GeV_to_m_sun = 1 / 1.11543e57\n",
    "m_sun_to_GeV = 1 / GeV_to_m_sun\n",
    "GeV_to_erg = 0.001602\n",
    "erg_to_GeV = 1 / GeV_to_erg\n",
    "yr_to_s = 365. * 24 * 60**2\n",
    "s_to_yr = 1 / yr_to_s\n",
    "L_sun_to_GeV_s = 2.402e36\n",
    "GeV_s_to_L_sun = 1 / L_sun_to_GeV_s\n",
    "L_sun_to_erg_s = L_sun_to_GeV_s * GeV_to_erg\n",
    "erg_s_to_L_sun = 1 / L_sun_to_erg_s\n",
    "\n",
    "# Milky Way halo's virial radius, assuming an NFW profile\n",
    "r_vir_mw_nfw = 8.28862681e11  # kpc\n",
    "r_s_mw_nfw = 24.42  # kpc\n",
    "# Sampling from this is EXTREMELY slow!\n",
    "r_dist_nfw = stats.gausshyper(2, 1, 2, r_vir_mw_nfw/r_s_mw_nfw, scale=r_vir_mw_nfw)\n",
    "\n",
    "# Best-fit Einasto parameters for Milky Way halo. From PPPC.\n",
    "alpha_mw = 0.17\n",
    "r_s_mw = 28.44  # kpc\n",
    "rho_e_mw = 0.033 * GeV_to_m_sun / cm_to_kpc**3  # M_sun / kpc^3\n",
    "\n",
    "def rho_einasto(r, rho_e, r_s, alpha):\n",
    "    \"\"\"Einasto density profile.\"\"\"\n",
    "    return rho_e * np.exp(-2/alpha * ((r / r_s)**alpha - 1))\n",
    "\n",
    "# Corresponding probability distributions for coordinates. Cross-checked with r**2 * rho_einasto.\n",
    "r_dist = stats.gengamma(a=3/alpha_mw, c=alpha_mw, loc=0, scale=(alpha_mw/2)**(1/alpha_mw) * r_s_mw)\n",
    "cos_th_dist = stats.uniform(-1., 2.)\n",
    "phi_dist = stats.uniform(0, 2*np.pi)\n",
    "\n",
    "# Total MW DM mass in M_sun. Cross-checked with PPPC.\n",
    "m_mw_dm = quad(lambda r: 4*np.pi*r**2*rho_einasto(r, rho_e_mw, r_s_mw, alpha_mw),\n",
    "               0., np.inf, epsabs=0, epsrel=1e-4)[0]\n",
    "\n",
    "Omega_cdm = 0.2589  # from Planck 2015\n",
    "z_eq = 3500.\n",
    "z_final = 30.  # redshift at which to end PBH halo evolution\n",
    "d_earth = 20.33  # kpc\n",
    "age_of_universe = 13e9  # yr\n",
    "fermi_psf = 0.15 * np.pi / 180.  # arxiv:0902.1089\n",
    "fermi_psf_solid_angle = 2.*np.pi*(1. - np.cos(fermi_psf))\n",
    "# Particle physics\n",
    "alpha_em = 1/137.\n",
    "m_e = 0.511e-3  # GeV\n",
    "m_mu = 105.7e-3  # GeV\n",
    "m_tau = 1.776  # GeV\n",
    "\n",
    "def gamma_spec_int(m_dm, e_low, e_high, fs=\"g g\"):\n",
    "    \"\"\"Computes the energy flux, int dE E dN/dE.\n",
    "    \n",
    "    Notes\n",
    "    -----\n",
    "    Uses the Altarelli-Parisi approximation for FSR from leptons.\n",
    "    \n",
    "    Parameters\n",
    "    ----------\n",
    "    m_dm\n",
    "        DM mass, GeV.\n",
    "    e_low, e_high\n",
    "        Energy interval, GeV.\n",
    "    fs : string\n",
    "    \n",
    "    Returns\n",
    "    -------\n",
    "    Energy flux per annihilation in GeV.\n",
    "    \"\"\"\n",
    "    if fs == \"g g\":\n",
    "        if e_low <= m_dm <= e_high:\n",
    "            return 2.*m_dm\n",
    "        else:\n",
    "            return 0.\n",
    "    elif fs == \"e e\":\n",
    "        return alpha_em/np.pi * (e_high - e_low) * np.log(4*m_dm/m_e)\n",
    "    elif fs == \"mu mu\":\n",
    "        return alpha_em/np.pi * (e_high - e_low) * np.log(4*m_dm/m_mu)\n",
    "    elif fs == \"tau tau\":\n",
    "        return alpha_em/np.pi * (e_high - e_low) * np.log(4*m_dm/m_tau)\n",
    "    else:\n",
    "        raise ValueError(\"Unknown final state\")\n",
    "\n",
    "def to_galactic_coords(r, th, phi, deg=True):\n",
    "    \"\"\"Converts from spherical coordinates centered on the GC to galactic coordinates.\"\"\"\n",
    "    x = r * np.sin(th) * np.cos(phi)\n",
    "    y = r * np.sin(th) * np.sin(phi)\n",
    "    z = r * np.cos(th)\n",
    "    \n",
    "    d = np.sqrt((x + d_earth)**2 + y**2 + z**2)\n",
    "    b = np.pi/2 - np.arccos(z / d)\n",
    "    l = np.arctan2(y, x + d_earth)\n",
    "    \n",
    "    if deg:\n",
    "        return np.stack([d, 180/np.pi*b, 180/np.pi*l])\n",
    "    else:\n",
    "        return np.stack([d, b, l])"
   ]
  },
  {
   "cell_type": "code",
   "execution_count": 46,
   "metadata": {
    "code_folding": [
     0,
     14,
     20
    ]
   },
   "outputs": [],
   "source": [
    "class PBHHaloSim(object):\n",
    "    def __init__(self, mass_dist, f_pbh, m_dm=100, sv=3e-26, e_low=1, e_high=100,\n",
    "                 fs=\"g g\", dOmega=fermi_psf_solid_angle, b_cut=10, e_flux_thresh=4e-13):\n",
    "        self.mass_dist = mass_dist\n",
    "        self.f_pbh = f_pbh\n",
    "        self.m_dm = m_dm\n",
    "        self.sv = sv\n",
    "        self.e_low = e_low\n",
    "        self.e_high = e_high\n",
    "        self.fs = fs\n",
    "        self.dOmega = dOmega\n",
    "        self.b_cut = b_cut\n",
    "        self.e_flux_thresh = e_flux_thresh\n",
    "    \n",
    "    def _gen_positions(self):\n",
    "        self.positions = np.stack([r_dist.rvs(self.n_samples),\n",
    "                                   np.arccos(cos_th_dist.rvs(self.n_samples)),\n",
    "                                   phi_dist.rvs(self.n_samples)])\n",
    "        self.positions = to_galactic_coords(*self.positions)\n",
    "        \n",
    "    def _pbh_halo_ann_rates(self):\n",
    "        \"\"\"\n",
    "        Notes\n",
    "        -----\n",
    "        From Byrnes2019.\n",
    "\n",
    "        Returns\n",
    "        -------\n",
    "        UCMH annihilation rate in 1/s.\n",
    "        \"\"\"\n",
    "        rho_max = self.m_dm / (self.sv * age_of_universe * yr_to_s)\n",
    "        r_cut = 1.3e-7 * (100./self.m_dm * self.sv/3e-26)**(4/9) * (self.m_pbhs/1.)**(1/3)\n",
    "        units_factor = kpc_to_cm**3\n",
    "        return 4*np.pi*self.sv*rho_max**2 * r_cut**3 / (2*self.m_dm**2) * units_factor\n",
    "    \n",
    "#     def _pbh_halo_lums(self):\n",
    "#         \"\"\"\n",
    "#         Notes\n",
    "#         -----\n",
    "#         From BL10. Results are extremely sensitive to r_tr, and the DM profile\n",
    "#         in general!\n",
    "\n",
    "#         Returns\n",
    "#         -------\n",
    "#         UCMH luminosity in erg/s.\n",
    "#         \"\"\"\n",
    "#         r_p = 6.3e-6 * 4.848e-9 * self.m_pbhs**0.23\n",
    "#         r_tr = 1300*4.848e-9 * self.m_pbhs**(1/3)\n",
    "#         units_factor = m_sun_to_GeV**2 / kpc_to_cm**3 * GeV_to_erg\n",
    "#         return (9/(32*np.pi) * self.m_pbhs**2 * self.sv / (self.m_dm * r_tr**3) *\n",
    "#                 np.log(r_tr / r_p) * units_factor)\n",
    "    \n",
    "    def _gen_pbh_halos(self):\n",
    "        if isinstance(self.mass_dist, numbers.Number):\n",
    "            self.m_pbhs = np.array(self.mass_dist)\n",
    "            self.ann_rates = self._pbh_halo_ann_rates()\n",
    "            self.m_pbhs = self.m_pbhs * np.ones(self.n_samples)\n",
    "            self.ann_rates = self.ann_rates * np.ones(self.n_samples)\n",
    "        else:\n",
    "            self.m_pbhs = mass_dist.rvs(self.n_samples)\n",
    "            self.ann_rates = self._pbh_halo_ann_rates()\n",
    "            \n",
    "        self.num_halo_pbhs = self.f_pbh * m_mw_dm / np.mean(self.m_pbhs)\n",
    "        \n",
    "        units_factor = 1 / kpc_to_cm**2\n",
    "        int_specs = gamma_spec_int(self.m_dm, self.e_low, self.e_high, self.fs)\n",
    "        self.e_fluxes = self.ann_rates * self.dOmega/(4*np.pi*self.positions[0]**2) * int_specs * units_factor\n",
    "    \n",
    "    def _num_detectable_pbh_halos(self, b_cut=None, e_flux_thresh=None):\n",
    "        # TODO: I don't think the error estimates are correct!\n",
    "        if b_cut is not None:\n",
    "            self.b_cut = b_cut\n",
    "        if e_flux_thresh is not None:\n",
    "            self.e_flux_thresh = e_flux_thresh\n",
    "        # PBHs outside galactic plane\n",
    "        passed_b_cut_idx = np.abs(self.positions[1]) > self.b_cut\n",
    "        # PBHs above energy threshold\n",
    "        passed_e_thresh_idx = self.e_fluxes > self.e_flux_thresh\n",
    "        # Values in this array are set to one for PBHs passing all cuts\n",
    "        self.passed_cuts = np.zeros(self.n_samples)\n",
    "        self.passed_cuts[passed_b_cut_idx & passed_e_thresh_idx] = 1.\n",
    "        # Probability for a PBH in the MW halo to pass all cuts\n",
    "        self.pr_passed_cuts = np.mean(self.passed_cuts)\n",
    "        # 95% confidence interval on estimate of this probability\n",
    "        self.pr_passed_cuts_err = 1.96 * np.std(sim.passed_cuts) / np.sqrt(sim.n_samples)\n",
    "        # MC estimate for number of detectable PBHs in MW halo\n",
    "        self.num_detectable_pbhs = self.num_halo_pbhs * self.pr_passed_cuts\n",
    "        self.num_detectable_pbhs_err = self.num_halo_pbhs * self.pr_passed_cuts_err\n",
    "        return self.num_detectable_pbhs\n",
    "    \n",
    "    def run(self, n_samples):\n",
    "        self.n_samples = n_samples\n",
    "        self._gen_positions()\n",
    "        self._gen_pbh_halos()\n",
    "        self._num_detectable_pbh_halos()\n",
    "        return self.num_detectable_pbhs"
   ]
  },
  {
   "cell_type": "code",
   "execution_count": 76,
   "metadata": {},
   "outputs": [
    {
     "name": "stdout",
     "output_type": "stream",
     "text": [
      "# det PBHs = 3798.5173682235277 +/- 3039.446003039919\n"
     ]
    }
   ],
   "source": [
    "# sim = PBHHaloSim(mass_dist=30., f_pbh=2e-9, m_dm=100., sv=3e-26)\n",
    "sim = PBHHaloSim(mass_dist=0.5, f_pbh=1e-3, m_dm=100., sv=5e-29)\n",
    "print(\"# det PBHs = {} +/- {}\".format(sim.run(10000000), sim.num_detectable_pbhs_err))"
   ]
  },
  {
   "cell_type": "markdown",
   "metadata": {},
   "source": [
    "Only need to scan over $(m_\\chi, \\langle \\sigma v \\rangle)$ grid since $N_{\\mathrm{obs}}^{\\gamma-\\mathrm{srcs}}$ scales as $f_{\\mathrm{PBH}}$!"
   ]
  },
  {
   "cell_type": "code",
   "execution_count": null,
   "metadata": {},
   "outputs": [],
   "source": []
  },
  {
   "cell_type": "code",
   "execution_count": null,
   "metadata": {},
   "outputs": [],
   "source": []
  },
  {
   "cell_type": "code",
   "execution_count": 75,
   "metadata": {},
   "outputs": [
    {
     "data": {
      "text/plain": [
       "Text(0, 0.5, '\\\\#')"
      ]
     },
     "execution_count": 75,
     "metadata": {},
     "output_type": "execute_result"
    },
    {
     "data": {
      "image/png": "[encoded data removed]",
      "text/plain": [
       "<Figure size 432x288 with 1 Axes>"
      ]
     },
     "metadata": {
      "image/png": {
       "height": 276,
       "width": 400
      },
      "needs_background": "light"
     },
     "output_type": "display_data"
    }
   ],
   "source": [
    "plt.hist(np.log10(sim.e_fluxes), bins=np.linspace(-19, -7))\n",
    "plt.axvline(np.log10(sim.e_flux_thresh), color='r', linestyle='--')\n",
    "\n",
    "plt.title(\"Energy fluxes of sampled PBHs\")\n",
    "plt.xlabel(\"Energy flux (erg/s)\")\n",
    "plt.ylabel(\"\\#\")"
   ]
  },
  {
   "cell_type": "code",
   "execution_count": 157,
   "metadata": {},
   "outputs": [],
   "source": [
    "m_pbhs = np.logspace(-1, 2, 25)\n",
    "n_det_pbhs = []\n",
    "n_det_pbhs_err = []\n",
    "for m_pbh in m_pbhs:\n",
    "    sim = PBHHaloSim(mass_dist=m_pbh, f_pbh=5e-9, m_dm=100., sv=3e-26)\n",
    "    n_det_pbhs.append(sim.run(1000000))\n",
    "    n_det_pbhs_err.append(sim.num_detectable_pbhs_err)\n",
    "n_det_pbhs = np.array(n_det_pbhs)\n",
    "n_det_pbhs_err = np.array(n_det_pbhs_err)"
   ]
  },
  {
   "cell_type": "code",
   "execution_count": 159,
   "metadata": {},
   "outputs": [
    {
     "data": {
      "text/plain": [
       "Text(0.5, 1.0, '$f_{\\\\mathrm{PBH}} = 10^{-9}$, $m_{\\\\mathrm{DM}}=100$ GeV, $\\\\langle \\\\sigma v \\\\rangle = 3\\\\times 10^{-26}$ cm$^3$/s, $E_{\\\\mathrm{thresh}}=4\\\\times 10^{-13}$ erg/s')"
      ]
     },
     "execution_count": 159,
     "metadata": {},
     "output_type": "execute_result"
    },
    {
     "data": {
      "image/png": "[encoded data removed]",
      "text/plain": [
       "<Figure size 432x288 with 1 Axes>"
      ]
     },
     "metadata": {
      "image/png": {
       "height": 277,
       "width": 430
      },
      "needs_background": "light"
     },
     "output_type": "display_data"
    }
   ],
   "source": [
    "plt.errorbar(m_pbhs, n_det_pbhs, yerr=n_det_pbhs_err, fmt='.')\n",
    "plt.xscale(\"log\")\n",
    "# plt.yscale(\"log\")\n",
    "plt.xlabel(r\"$M_{\\mathrm{PBH}}$ ($M_\\odot$)\")\n",
    "plt.ylabel(r\"$N_{\\mathrm{det}}$\")\n",
    "plt.title(r\"$f_{\\mathrm{PBH}} = 10^{-9}$, $m_{\\mathrm{DM}}=100$ GeV, \"\n",
    "          r\"$\\langle \\sigma v \\rangle = 3\\times 10^{-26}$ cm$^3$/s, $E_{\\mathrm{thresh}}=4\\times 10^{-13}$ erg/s\")"
   ]
  },
  {
   "cell_type": "markdown",
   "metadata": {},
   "source": [
    "Comparison with Visinelli's paper"
   ]
  },
  {
   "cell_type": "code",
   "execution_count": 10,
   "metadata": {},
   "outputs": [],
   "source": [
    "num_anns = []\n",
    "m_pbhs = np.logspace(-18, -4)\n",
    "\n",
    "for m in m_pbhs:\n",
    "    sim = PBHHaloSim(m, f_pbh=1, m_dm=10e3)\n",
    "    sim.run(1)\n",
    "    num_anns.append(sim._pbh_halo_ann_rates())# * erg_to_GeV / sim.m_dm)\n",
    "num_anns = np.array(num_anns)"
   ]
  },
  {
   "cell_type": "code",
   "execution_count": 11,
   "metadata": {},
   "outputs": [
    {
     "data": {
      "text/plain": [
       "[<matplotlib.lines.Line2D at 0x1406105c0>]"
      ]
     },
     "execution_count": 11,
     "metadata": {},
     "output_type": "execute_result"
    },
    {
     "data": {
      "image/png": "[encoded data removed]",
      "text/plain": [
       "<Figure size 432x288 with 1 Axes>"
      ]
     },
     "metadata": {
      "image/png": {
       "height": 249,
       "width": 375
      },
      "needs_background": "light"
     },
     "output_type": "display_data"
    }
   ],
   "source": [
    "plt.loglog(m_pbhs, num_anns)"
   ]
  },
  {
   "cell_type": "markdown",
   "metadata": {},
   "source": [
    "Byrnes' gamma-ray constraints. I find that he's over-optimistic by a factor of 1/3."
   ]
  },
  {
   "cell_type": "code",
   "execution_count": 30,
   "metadata": {},
   "outputs": [],
   "source": [
    "def constrain_f_pbh(m_pbh, m_dm=100, sv=3e-26):\n",
    "    # Replicate Byrnes2019 constraints\n",
    "    rho_max = m_dm / (sv * age_of_universe * yr_to_s)\n",
    "    # kpc\n",
    "    r_cut = (sv / 3e-26)**(4/9) * (m_dm / 100)**(-4/9) * (m_pbh / 1.)**(1/3) * 1.3e-7\n",
    "    Gamma_pbh = 4*np.pi*sv*rho_max**2*r_cut**3 / m_dm**2 * kpc_to_cm**3\n",
    "    Gamma_dm = 1e-28  # 1/s\n",
    "    return Gamma_dm/Gamma_pbh * m_pbh*m_sun_to_GeV/m_dm"
   ]
  },
  {
   "cell_type": "code",
   "execution_count": 31,
   "metadata": {},
   "outputs": [
    {
     "data": {
      "text/plain": [
       "Text(0.5, 1.0, '$M_{\\\\mathrm{PBH}} = 30 M_\\\\odot$')"
      ]
     },
     "execution_count": 31,
     "metadata": {},
     "output_type": "execute_result"
    },
    {
     "data": {
      "image/png": "[encoded data removed]",
      "text/plain": [
       "<Figure size 432x288 with 1 Axes>"
      ]
     },
     "metadata": {
      "image/png": {
       "height": 276,
       "width": 383
      },
      "needs_background": "light"
     },
     "output_type": "display_data"
    }
   ],
   "source": [
    "m_dms = np.logspace(1, 4)\n",
    "\n",
    "plt.plot(m_dms, [constrain_f_pbh(30., m_dm) for m_dm in m_dms])\n",
    "plt.xscale(\"log\")\n",
    "\n",
    "plt.xlabel(r\"$m_{\\mathrm{DM}}$ (GeV)\")\n",
    "plt.ylabel(r\"$f_{\\mathrm{PBH}}$\")\n",
    "plt.title(r\"$M_{\\mathrm{PBH}} = 30 M_\\odot$\")"
   ]
  },
  {
   "cell_type": "code",
   "execution_count": null,
   "metadata": {},
   "outputs": [],
   "source": []
  },
  {
   "cell_type": "markdown",
   "metadata": {
    "heading_collapsed": true
   },
   "source": [
    "# Notes: point sources vs diffuse"
   ]
  },
  {
   "cell_type": "markdown",
   "metadata": {
    "hidden": true
   },
   "source": [
    "Plugging in $M_{\\mathrm{PBH}} = 30 M_\\odot$, $f=10^{-8}$ and assuming a uniform angular distribution, we can compute the average angular radius around each PBH that does not contain another PBH. This angle is 50 times larger than Fermi's PSF. Since in reality sources are not uniformly distributed on the sky, this is a bit of an underestimate. **This means Byrnes' analysis is inconsistent: at such low $f$s, you need to perform a point source analysis to properly constrain $f$.**"
   ]
  },
  {
   "cell_type": "code",
   "execution_count": 57,
   "metadata": {
    "hidden": true
   },
   "outputs": [
    {
     "name": "stdout",
     "output_type": "stream",
     "text": [
      "<th_sep> / fermi_psf = 47.036560\n"
     ]
    }
   ],
   "source": [
    "n_pbhs_in_mw = 1e-8*(m_mw_dm / 30.)\n",
    "avg_pbh_angular_sep = 2*np.sqrt((4*np.pi / n_pbhs_in_mw) / np.pi) / fermi_psf\n",
    "print(\"<th_sep> / fermi_psf = %f\" % avg_pbh_angular_sep)"
   ]
  },
  {
   "cell_type": "markdown",
   "metadata": {
    "hidden": true
   },
   "source": [
    "Let's instead consider $f = 10^{-3}$ and $M_{\\mathrm{PBH}} = 0.5 M_\\odot$, which are interesting numbers for LIGO O3. In this case the average separation is much smaller than Fermi's PSF. This means the DM self-annihilation cross section must be very small for a point source search to be valid."
   ]
  },
  {
   "cell_type": "code",
   "execution_count": 58,
   "metadata": {
    "hidden": true
   },
   "outputs": [
    {
     "name": "stdout",
     "output_type": "stream",
     "text": [
      "<th_sep> / fermi_psf = 0.019203\n"
     ]
    }
   ],
   "source": [
    "n_pbhs_in_mw = 1e-3*(m_mw_dm / 0.5)\n",
    "avg_pbh_angular_sep = 2*np.sqrt((4*np.pi / n_pbhs_in_mw) / np.pi) / fermi_psf\n",
    "print(\"<th_sep> / fermi_psf = %f\" % avg_pbh_angular_sep)"
   ]
  },
  {
   "cell_type": "markdown",
   "metadata": {
    "heading_collapsed": true
   },
   "source": [
    "# DM density profile\n",
    "See [Luca Visinelli's paper](https://arxiv.org/abs/1712.06383)"
   ]
  },
  {
   "cell_type": "code",
   "execution_count": 123,
   "metadata": {
    "hidden": true
   },
   "outputs": [],
   "source": [
    "import numba"
   ]
  },
  {
   "cell_type": "code",
   "execution_count": 210,
   "metadata": {
    "hidden": true
   },
   "outputs": [],
   "source": [
    "def influence_radius(temp_kd, r_g=1.):\n",
    "    return r_g * (2 * temp_kd / r_g)**(2/3)\n",
    "\n",
    "def initial_density(r_i, r_infl, rho_kd):\n",
    "    if r_i < r_infl:\n",
    "        return rho_kd\n",
    "    else:\n",
    "        return rho_kd * (r_infl / r_i)**(9/4)\n",
    "\n",
    "def kd_density(temp_kd):\n",
    "    # TODO: put this in!\n",
    "    return 1e-5\n",
    "#     g_star_kd = 61.75\n",
    "#     Omega_m = 0.27\n",
    "#     t_eq = 2.4 / np.sqrt(10) * (0.75e-9 / 1e-3)**(-2)  # s\n",
    "#     t_kd = 2.4 / np.sqrt(g_star_kd) * (temp_kd / 1e-3)**(-2)  # s\n",
    "#     return Omega_m * rho_eq * (t_eq / t_kd)**(3/2)\n",
    "\n",
    "def temperature(r_i, r_infl, temp_kd):\n",
    "    if r_i < r_infl:\n",
    "        return temp_kd\n",
    "    else:\n",
    "        return temp_kd * (r_infl / r_i)**(3/2)\n",
    "    \n",
    "def f_mb(beta_i, sigma):\n",
    "    return np.exp(-beta_i**2 / (2*sigma**2)) / (2*np.pi*sigma**2)**(3/2)\n",
    "\n",
    "def y_min(beta_i, r_i, r):\n",
    "    return np.sqrt(1 + (r / r_i / beta_i)**2 * (1 / r_i - beta_i**2 - 1 / r))\n",
    "\n",
    "def r_min_max(beta_i, r):\n",
    "    r1 = r\n",
    "    r2 = r/2 * (np.sqrt(1 + 4 / r / beta_i**2) - 1)\n",
    "    if r1 < r2:\n",
    "        return r1, r2\n",
    "    else:\n",
    "        return r2, r1\n",
    "    \n",
    "def ps_integrand(beta_i, r_i, r, m_dm, x_kd=1e-4, r_g=1.):\n",
    "    if beta_i < 0 or r_i < 0 or r < 0:\n",
    "        return 0.\n",
    "    r_min, r_max = r_min_max(beta_i, r)\n",
    "#     print(r_min, r_max)\n",
    "#     print(1 / beta_i > r_i)\n",
    "#     print(r_i > r / (1 + r * beta_i**2))\n",
    "#     print(r_min > r_i, r_i > r_max)\n",
    "    if 1 / beta_i > r_i and r_i > r / (1 + r * beta_i**2) and \\\n",
    "            (r_min > r_i or r_i > r_max):\n",
    "        temp_kd = m_dm * x_kd\n",
    "        rho_kd = kd_density(temp_kd)\n",
    "        r_infl = influence_radius(temp_kd, r_g)\n",
    "        sigma = np.sqrt(temperature(r_i, r_infl, temp_kd) / m_dm)\n",
    "        factor_1 = 8/r * beta_i * f_mb(beta_i, sigma) * r_i * initial_density(r_i, r_infl, rho_kd)\n",
    "        y_m = y_min(beta_i, r_i, r)\n",
    "        x_m = np.sqrt(1 - y_m**2)\n",
    "        factor_2 = (1 / r_i - beta_i**2)**(3/2) * np.log((1 + x_m) / y_m)\n",
    "        return factor_1 * factor_2\n",
    "    else:\n",
    "        return 0."
   ]
  },
  {
   "cell_type": "code",
   "execution_count": 196,
   "metadata": {
    "hidden": true
   },
   "outputs": [],
   "source": [
    "from scipy.integrate import dblquad"
   ]
  },
  {
   "cell_type": "code",
   "execution_count": 216,
   "metadata": {
    "hidden": true
   },
   "outputs": [
    {
     "name": "stderr",
     "output_type": "stream",
     "text": [
      "/Users/acoogan/.pyenv/versions/3.6.5/lib/python3.6/site-packages/scipy/integrate/quadpack.py:860: IntegrationWarning: The algorithm does not converge.  Roundoff error is detected\n",
      "  in the extrapolation table.  It is assumed that the requested tolerance\n",
      "  cannot be achieved, and that the returned result (if full_output = 1) is \n",
      "  the best which can be obtained.\n",
      "  **opt)\n",
      "/Users/acoogan/.pyenv/versions/3.6.5/lib/python3.6/site-packages/scipy/integrate/quadpack.py:860: IntegrationWarning: The maximum number of subdivisions (50) has been achieved.\n",
      "  If increasing the limit yields no improvement it is advised to analyze \n",
      "  the integrand in order to determine the difficulties.  If the position of a \n",
      "  local difficulty can be determined (singularity, discontinuity) one will \n",
      "  probably gain from splitting up the interval and calling the integrator \n",
      "  on the subranges.  Perhaps a special-purpose integrator should be used.\n",
      "  **opt)\n"
     ]
    },
    {
     "data": {
      "text/plain": [
       "(1.023037080247131e-09, 5.887327581292859e-09)"
      ]
     },
     "execution_count": 216,
     "metadata": {},
     "output_type": "execute_result"
    }
   ],
   "source": [
    "dblquad(lambda bi, ri: ps_integrand(bi, ri, 0.0001, 100.),\n",
    "        0, np.inf, lambda ri: 0, lambda ri: np.inf, epsabs=1e-200, epsrel=1e-5)"
   ]
  },
  {
   "cell_type": "code",
   "execution_count": 130,
   "metadata": {
    "hidden": true
   },
   "outputs": [
    {
     "data": {
      "text/plain": [
       "True"
      ]
     },
     "execution_count": 130,
     "metadata": {},
     "output_type": "execute_result"
    }
   ],
   "source": [
    "2 > 3 / (1 + 3 * 0.5**2)"
   ]
  },
  {
   "cell_type": "code",
   "execution_count": null,
   "metadata": {
    "hidden": true
   },
   "outputs": [],
   "source": []
  }
 ],
 "metadata": {
  "kernelspec": {
   "display_name": "Python 3",
   "language": "python",
   "name": "python3"
  },
  "language_info": {
   "codemirror_mode": {
    "name": "ipython",
    "version": 3
   },
   "file_extension": ".py",
   "mimetype": "text/x-python",
   "name": "python",
   "nbconvert_exporter": "python",
   "pygments_lexer": "ipython3",
   "version": "3.6.5"
  }
 },
 "nbformat": 4,
 "nbformat_minor": 2
}
