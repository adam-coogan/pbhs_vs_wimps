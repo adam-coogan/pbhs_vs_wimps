{
 "cells": [
  {
   "cell_type": "code",
   "execution_count": 1,
   "metadata": {},
   "outputs": [],
   "source": [
    "import numpy as np"
   ]
  },
  {
   "cell_type": "markdown",
   "metadata": {},
   "source": [
    "# Constraints"
   ]
  },
  {
   "cell_type": "markdown",
   "metadata": {},
   "source": [
    "Things to check/improve\n",
    "* How does $r_{p,{\\rm eq}}$ compare with the usual annihilation plateau estimate?\n",
    "* I think BL10 use the wrong $R_{\\rm eq}$ value. Should compare their value, the virial radius and my value.\n",
    "* Could compute branching fractions into photons much more accurately using (eg) PPPC4DMID or AP approximation.\n",
    "* This can also give a better value for the $\\gamma$-ray intensity."
   ]
  },
  {
   "cell_type": "markdown",
   "metadata": {},
   "source": [
    "## UCMH annihilation luminosity\n",
    "\n",
    "The luminosity is\n",
    "\n",
    "$$L_{\\rm ann} = 2 \\pi \\langle \\sigma v \\rangle \\int_{r_{\\rm min}}^{r_{\\rm max}} dr\\ r^2 \\left( \\frac{\\rho_{\\rm DM}(r)}{m_{\\rm DM}} \\right)^2 m_{\\rm DM}.$$\n",
    "\n",
    "BL10 showed that DM with apocenter of $R_{\\rm eq}$ mostly survive to the present, even though they venture to the innermost region of the UCMH. $R_{\\rm eq} = R_{\\rm tr}(z_{\\rm eq})$ is the value of the truncation radius (roughly the turnaround radius) at matter-radiation equality. They derive a lower limit for the integral by requiring the pericenter $r_p$ of DM infalling from $R_{\\rm eq}$ to miss the central PBH. The pericenter is roughly $r_p \\approx v_a^2 r_a^2 / (2 G m_{\\rm PBH})$, so\n",
    "\n",
    "$$r_{p,{\\rm eq}} \\approx 6.3\\times10^{-6}~{\\rm AU} \\left( \\frac{m_{\\rm PBH}}{M_\\odot} \\right)^{0.23}.$$\n",
    "\n",
    "BL10 also assumes $\\rho \\propto r^{-3/2}$ for $r < R_{\\rm eq}$, which follows from simple arguments and is in agreement with [recent realistic simulations](https://arxiv.org/abs/1806.07389) (though note these don't include a central PBH). At larger radii they take $\\rho \\propto r^{-9/4}$, which again agrees with realistic simulations. They conservatively take $r_{\\rm max} = R_{\\rm eq}$.\n",
    "\n",
    "This leads to\n",
    "\n",
    "$$L_{\\rm ann}(m_{\\rm DM}, \\langle \\sigma v \\rangle, m_{\\rm PBH}) = \\frac{9}{32 \\pi} \\frac{m_{\\rm PBH}^2 \\langle \\sigma v \\rangle c^2}{m_{\\rm DM} R_{\\rm eq}^3} \\log\\left( \\frac{R_{\\rm eq}}{r_{\\rm min}} \\right) \\approx 24 L_\\odot \\left( \\frac{m_{\\rm PBH}}{M_\\odot} \\right) m_{100}^{-1},$$\n",
    "\n",
    "where $m_{100} \\equiv m_{\\rm DM} c^2 / 100~{\\rm GeV}$."
   ]
  },
  {
   "cell_type": "markdown",
   "metadata": {},
   "source": [
    "## Cosmic $\\gamma$-ray background constraints\n",
    "\n",
    "EGRET constrains the emissivity of the Universe above 100 MeV to\n",
    "\n",
    "$$Q_{\\rm max} = 8\\times10^{-35}~{\\rm erg~s}^{-1}~{\\rm cm}^{-3}.$$\n",
    "\n",
    "The number of PBHs is limited through the relation\n",
    "\n",
    "$$L_{\\rm ann} ~ \\operatorname{Br}(\\gamma) ~ n_{\\rm PBH} \\leq Q_{\\rm max},$$\n",
    "\n",
    "where the quantities on the LHS are the annihilation luminosity and branching fraction into final states containing a photon. This can be converted into a limit on the PBH density parameter:\n",
    "\n",
    "$$\\Omega_{\\rm PBH} \\leq \\frac{Q_{\\rm max} m_{\\rm PBH}}{\\rho_c L_{\\rm ann} \\operatorname{Br}(\\gamma)}.$$\n",
    "\n",
    "Since the luminosity scales as $m_{\\rm PBH}$ the limit is roughly independent of PBH mass."
   ]
  },
  {
   "cell_type": "markdown",
   "metadata": {},
   "source": [
    "**Our project**\n",
    "\n",
    "We instead want to fix $\\Omega_{\\rm PBH}$ and use this to set a constraint on the DM self-annihilation cross section. Rearranging the above equation gives\n",
    "\n",
    "$$\\langle \\sigma v \\rangle \\operatorname{Br}(\\gamma) \\leq \\frac{Q_{\\rm max} m_{\\rm PBH}}{\\Omega_{\\rm PBH} \\rho_c L_{\\rm ann}(m_{\\rm DM}, 1, m_{\\rm PBH})}$$"
   ]
  },
  {
   "cell_type": "markdown",
   "metadata": {},
   "source": [
    "## Milky Way $\\gamma$-ray constraints"
   ]
  },
  {
   "cell_type": "markdown",
   "metadata": {},
   "source": [
    "*Must make an assumption about the spatial distribution of PBHs.* Assume $n_{\\rm PBH}(\\vec{r})$ tracks the DM density. Then the limit on the PBH abundance is\n",
    "\n",
    "$$\\Omega_{\\rm PBH} \\leq \\frac{4 \\pi I_{\\rm obs} m_{\\rm PBH}}{L_{\\rm ann} \\operatorname{Br}(\\gamma) ~ \\rho_c \\int ds\\ \\delta(\\vec{s})},$$\n",
    "\n",
    "where the integral is over the line of sight and the integrand is the DM overdensity over the average cosmic DM density. BL10 use an NFW distribution\n",
    "\n",
    "$$\\delta(r) = \\frac{\\delta_s}{(r/r_s) (1 + r/r_s)^2}$$\n",
    "\n",
    "with $\\delta_s = 4.5\\times10^4$, $r_s = 27~{\\rm kpc}$. Note the integral is proportional to the density of PBHs rather than the density squared, which is more like the DM decay case. They derive a conservative bound by using a line of sight away from the GC where the profile uncertainty and signal are smallest. They find $I_{\\rm obs}$ by integrating the extragalactic background below 100 GeV measured by Fermi over the log bin below $m_{\\rm DM} c^2$ since that's where most of the power is."
   ]
  },
  {
   "cell_type": "markdown",
   "metadata": {},
   "source": [
    "**Our project**\n",
    "\n",
    "The annihilation cross section constraint is\n",
    "\n",
    "$$\\langle \\sigma v \\rangle \\operatorname{Br}(\\gamma) \\leq \\frac{4 \\pi I_{\\rm obs} m_{\\rm PBH}}{\\Omega_{\\rm PBH} L_{\\rm ann}(m_{\\rm DM}, 1, m_{\\rm PBH}) ~ \\rho_c \\int ds\\ \\delta(\\vec{s})}.$$"
   ]
  },
  {
   "cell_type": "markdown",
   "metadata": {
    "heading_collapsed": true
   },
   "source": [
    "## Other"
   ]
  },
  {
   "cell_type": "markdown",
   "metadata": {
    "hidden": true
   },
   "source": [
    "I will instead draw on [recent realistic simulations of UCMH formation](https://arxiv.org/abs/1806.07389) to determine reasonable density profiles and integration limits. This reference finds the annihilation luminosity\n",
    "\n",
    "$$L_{\\rm ann} = B k_s^{-3} a_c^{-3} \\log(\\beta a_c),$$\n",
    "\n",
    "with\n",
    "\n",
    "$$B \\equiv 8 \\pi g f_2^2 f_1^3 \\bar{\\rho}_0^2,\\ \\beta \\equiv e^{-7/12} \\left( \\frac{\\rho_{\\rm max}}{f_2 \\bar{\\rho}_0} \\right)^{1/3}.$$"
   ]
  },
  {
   "cell_type": "code",
   "execution_count": null,
   "metadata": {
    "hidden": true
   },
   "outputs": [],
   "source": []
  }
 ],
 "metadata": {
  "kernelspec": {
   "display_name": "Python 3",
   "language": "python",
   "name": "python3"
  },
  "language_info": {
   "codemirror_mode": {
    "name": "ipython",
    "version": 3
   },
   "file_extension": ".py",
   "mimetype": "text/x-python",
   "name": "python",
   "nbconvert_exporter": "python",
   "pygments_lexer": "ipython3",
   "version": "3.6.5"
  }
 },
 "nbformat": 4,
 "nbformat_minor": 2
}
