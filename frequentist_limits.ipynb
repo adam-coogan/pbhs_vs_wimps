{
 "cells": [
  {
   "cell_type": "code",
   "execution_count": 1,
   "metadata": {},
   "outputs": [],
   "source": [
    "import matplotlib.pyplot as plt\n",
    "import numpy as np\n",
    "from scipy.integrate import trapz, cumtrapz\n",
    "from posterior_inference_shared import Distribution_f\n",
    "from posterior_inference_point import PointSourcePosterior, Distribution_N_gamma\n",
    "from posterior_inference_diffuse import DiffusePosterior\n",
    "import os\n",
    "from scipy.integrate import cumtrapz\n",
    "\n",
    "colors = [c[\"color\"] for c in plt.rcParams['axes.prop_cycle']]"
   ]
  },
  {
   "cell_type": "code",
   "execution_count": 2,
   "metadata": {},
   "outputs": [],
   "source": [
    "m_pbh = 0.5\n",
    "n_pbh = 1\n",
    "n_u = 19\n",
    "merger_rate_prior = 'LF'\n",
    "lambda_prior = 'LF'"
   ]
  },
  {
   "cell_type": "markdown",
   "metadata": {},
   "source": [
    "# Diffuse limits"
   ]
  },
  {
   "cell_type": "markdown",
   "metadata": {},
   "source": [
    "Under the null hypothesis, the likelihood for the fluxes in each bin follows a $\\chi^2$ distribution, so this should be our test statistic. The limit on $\\langle \\sigma v \\rangle$ is set by fixing $P(\\chi^2 \\geq \\chi^2_{\\mathrm{crit}}) = \\alpha$, where $\\alpha = 0.95$. For 26 bins, this translates to $\\chi^2_{\\mathrm{crit}} = 38.9$.\n",
    "\n",
    "Since the likelihood is\n",
    "$$\n",
    "p(\\mathcal{D} | N_{\\mathrm{PBH}}, \\langle \\sigma v \\rangle) = \\int df\\ p(f | N_{\\mathrm{PBH}}) \\prod_{i=1}^{26} \\frac{1}{\\sqrt{2\\pi} \\sigma_i} \\exp\\left[ -\\frac{1}{2} \\left( \\frac{\\phi_{\\mathrm{PBH}}^{\\mathrm{ex}}(E_i)}{\\sigma_i} \\right)^2 \\right],\n",
    "$$\n",
    "we need to compute $p(\\chi^2 | N_{\\mathrm{PBH}}, \\langle \\sigma v \\rangle)$ using Monte Carlo."
   ]
  },
  {
   "cell_type": "code",
   "execution_count": 4,
   "metadata": {},
   "outputs": [],
   "source": [
    "p_f = Distribution_f(m_pbh, n_pbh, merger_rate_prior)\n",
    "f = p_f.sample(10)"
   ]
  },
  {
   "cell_type": "code",
   "execution_count": 6,
   "metadata": {},
   "outputs": [],
   "source": [
    "from constants import e_egb, err_high_egb\n",
    "from diffuse_constraints import phi_ex"
   ]
  },
  {
   "cell_type": "code",
   "execution_count": null,
   "metadata": {},
   "outputs": [],
   "source": [
    "def sample_xi2(m_dm, sv):\n",
    "    pass\n",
    "#     1 / np.sqrt(2 * np.pi * err_high_egb**2) * np.exp(-phi_ex(e_egb, m_dm, ))"
   ]
  },
  {
   "cell_type": "markdown",
   "metadata": {
    "heading_collapsed": true
   },
   "source": [
    "# Point source limits"
   ]
  },
  {
   "cell_type": "code",
   "execution_count": null,
   "metadata": {
    "hidden": true
   },
   "outputs": [],
   "source": [
    "Distribution_N_gamma(m_pbh, )"
   ]
  },
  {
   "cell_type": "code",
   "execution_count": 9,
   "metadata": {
    "hidden": true
   },
   "outputs": [],
   "source": [
    "from constants import phi_egb"
   ]
  },
  {
   "cell_type": "code",
   "execution_count": null,
   "metadata": {
    "hidden": true
   },
   "outputs": [],
   "source": []
  },
  {
   "cell_type": "code",
   "execution_count": null,
   "metadata": {
    "hidden": true
   },
   "outputs": [],
   "source": []
  },
  {
   "cell_type": "code",
   "execution_count": 3,
   "metadata": {
    "hidden": true
   },
   "outputs": [],
   "source": [
    "post_ps = PointSourcePosterior(m_pbh, n_pbh, n_u, merger_rate_prior, lambda_prior)"
   ]
  },
  {
   "cell_type": "code",
   "execution_count": 4,
   "metadata": {
    "hidden": true
   },
   "outputs": [],
   "source": [
    "post_ps._p_n_gamma._load_p_gamma_table()"
   ]
  },
  {
   "cell_type": "code",
   "execution_count": 7,
   "metadata": {
    "hidden": true
   },
   "outputs": [
    {
     "data": {
      "text/plain": [
       "array([2.24077629e-07])"
      ]
     },
     "execution_count": 7,
     "metadata": {},
     "output_type": "execute_result"
    }
   ],
   "source": [
    "post_ps.p_gamma(3e-30, 100.)"
   ]
  }
 ],
 "metadata": {
  "kernelspec": {
   "display_name": "Python 3",
   "language": "python",
   "name": "python3"
  },
  "language_info": {
   "codemirror_mode": {
    "name": "ipython",
    "version": 3
   },
   "file_extension": ".py",
   "mimetype": "text/x-python",
   "name": "python",
   "nbconvert_exporter": "python",
   "pygments_lexer": "ipython3",
   "version": "3.7.1"
  }
 },
 "nbformat": 4,
 "nbformat_minor": 2
}
