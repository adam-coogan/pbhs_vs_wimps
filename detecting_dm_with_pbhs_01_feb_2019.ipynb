{
 "cells": [
  {
   "cell_type": "code",
   "execution_count": 146,
   "metadata": {},
   "outputs": [],
   "source": [
    "import matplotlib.pyplot as plt\n",
    "import numbers\n",
    "import numpy as np\n",
    "import scipy\n",
    "from scipy.integrate import quad\n",
    "from scipy import optimize\n",
    "from scipy import stats"
   ]
  },
  {
   "cell_type": "markdown",
   "metadata": {},
   "source": [
    "Notes/questions/to-do\n",
    "* In the case of $f \\sim 10^{-4} - 10^{-2}$, which is more constraining: $\\gamma$-ray point source or diffuse constraints? When can each be used?\n",
    "* Need to make sure the detectable PBHs aren't too close to Earth! **Otherwise they could contribute to the local DM density.**"
   ]
  },
  {
   "cell_type": "code",
   "execution_count": 147,
   "metadata": {
    "code_folding": [
     36,
     38
    ]
   },
   "outputs": [],
   "source": [
    "kpc_to_cm = 3.086e21  # 1 kpc in cm\n",
    "cm_to_kpc = 1 / kpc_to_cm\n",
    "GeV_to_m_sun = 1 / 1.11543e57\n",
    "m_sun_to_GeV = 1 / GeV_to_m_sun\n",
    "GeV_to_erg = 0.001602\n",
    "erg_to_GeV = 1 / GeV_to_erg\n",
    "yr_to_s = 365. * 24 * 60**2\n",
    "s_to_yr = 1 / yr_to_s\n",
    "L_sun_to_GeV_s = 2.402e36\n",
    "GeV_s_to_L_sun = 1 / L_sun_to_GeV_s\n",
    "L_sun_to_erg_s = L_sun_to_GeV_s * GeV_to_erg\n",
    "erg_s_to_L_sun = 1 / L_sun_to_erg_s\n",
    "\n",
    "# Milky Way halo's virial radius, assuming an NFW profile\n",
    "r_vir_mw_nfw = 8.28862681e11  # kpc\n",
    "r_s_mw_nfw = 24.42  # kpc\n",
    "# Sampling from this is EXTREMELY slow!\n",
    "r_dist_nfw = stats.gausshyper(2, 1, 2, r_vir_mw_nfw/r_s_mw_nfw, scale=r_vir_mw_nfw)\n",
    "\n",
    "# Best-fit Einasto parameters for Milky Way halo. From PPPC.\n",
    "# alpha_mw = 0.17\n",
    "# r_s_mw = 28.44  # kpc\n",
    "alpha_mw=0.25\n",
    "r_s_mw = 4.5  # kpc   # for comparison with Gf+Zentner\n",
    "rho_e_mw = 0.033 * GeV_to_m_sun / cm_to_kpc**3  # M_sun / kpc^3\n",
    "\n",
    "def rho_einasto(r, rho_e, r_s, alpha):\n",
    "    \"\"\"Einasto density profile.\"\"\"\n",
    "    return rho_e * np.exp(-2/alpha * ((r / r_s)**alpha - 1))\n",
    "\n",
    "# Corresponding probability distributions for coordinates. Cross-checked with r**2 * rho_einasto.\n",
    "r_dist = stats.gengamma(a=3/alpha_mw, c=alpha_mw, loc=0,\n",
    "                        scale=(alpha_mw/2)**(1/alpha_mw) * r_s_mw)\n",
    "cos_th_dist = stats.uniform(-1., 2.)\n",
    "phi_dist = stats.uniform(0, 2*np.pi)\n",
    "def r_sample(n):\n",
    "    return np.random.gamma(shape=3/alpha_mw, scale=alpha_mw*r_s_mw**alpha_mw/2,\n",
    "                           size=n)**(1/alpha_mw)\n",
    "def cos_th_sample(n):\n",
    "    return np.random.uniform(-1., 1., n)\n",
    "def phi_sample(n):\n",
    "    return np.random.uniform(0., 2*np.pi, n)\n",
    "\n",
    "# Total MW DM mass in M_sun. Cross-checked with PPPC.\n",
    "m_mw_dm = quad(lambda r: 4*np.pi*r**2*rho_einasto(r, rho_e_mw, r_s_mw, alpha_mw),\n",
    "               0., np.inf, epsabs=0, epsrel=1e-4)[0]\n",
    "\n",
    "Omega_cdm = 0.2589  # from Planck 2015\n",
    "z_eq = 3500.\n",
    "z_final = 30.  # redshift at which to end PBH halo evolution\n",
    "d_earth = 8.33  # kpc\n",
    "age_of_universe = 13e9  # yr\n",
    "fermi_psf = 0.15 * np.pi / 180.  # arxiv:0902.1089\n",
    "fermi_psf_solid_angle = 2.*np.pi*(1. - np.cos(fermi_psf))\n",
    "# Particle physics\n",
    "alpha_em = 1/137.\n",
    "m_e = 0.511e-3  # GeV\n",
    "m_mu = 105.7e-3  # GeV\n",
    "m_tau = 1.776  # GeV\n",
    "\n",
    "def integral_e_dnde(m_dm, e_low, e_high, fs=\"g g\"):\n",
    "    \"\"\"Computes the energy flux, int dE E dN/dE.\n",
    "    \n",
    "    Notes\n",
    "    -----\n",
    "    Uses the Altarelli-Parisi approximation for FSR from leptons.\n",
    "    \n",
    "    Parameters\n",
    "    ----------\n",
    "    m_dm\n",
    "        DM mass, GeV.\n",
    "    e_low, e_high\n",
    "        Energy interval, GeV.\n",
    "    fs : string\n",
    "    \n",
    "    Returns\n",
    "    -------\n",
    "    Energy flux per annihilation, GeV.\n",
    "    \"\"\"\n",
    "    if fs == \"g g\":\n",
    "        if e_low <= m_dm <= e_high:\n",
    "            return 2.*m_dm\n",
    "        else:\n",
    "            return 0.\n",
    "    elif fs == \"e e\":\n",
    "        return alpha_em/np.pi * (e_high - e_low) * np.log(4*m_dm/m_e)\n",
    "    elif fs == \"mu mu\":\n",
    "        return alpha_em/np.pi * (e_high - e_low) * np.log(4*m_dm/m_mu)\n",
    "    elif fs == \"tau tau\":\n",
    "        return alpha_em/np.pi * (e_high - e_low) * np.log(4*m_dm/m_tau)\n",
    "    else:\n",
    "        raise ValueError(\"Unknown final state\")\n",
    "        \n",
    "def integral_dnde(m_dm, e_low, e_high, fs=\"g g\"):\n",
    "    \"\"\"Computes the integrated spectrum, int dE dN/dE.\n",
    "    \n",
    "    Notes\n",
    "    -----\n",
    "    Uses the Altarelli-Parisi approximation for FSR from leptons.\n",
    "    \n",
    "    Parameters\n",
    "    ----------\n",
    "    m_dm\n",
    "        DM mass, GeV.\n",
    "    e_low, e_high\n",
    "        Energy interval, GeV.\n",
    "    fs : string\n",
    "    \n",
    "    Returns\n",
    "    -------\n",
    "    Integrated photon flux per annihilation, GeV.\n",
    "    \"\"\"\n",
    "    if fs == \"g g\":\n",
    "        if e_low <= m_dm <= e_high:\n",
    "            return 2.\n",
    "        else:\n",
    "            return 0.\n",
    "    elif fs == \"e e\":\n",
    "        return alpha_em/np.pi * np.log(e_high / e_low) * np.log(4*m_dm/m_e)\n",
    "    elif fs == \"mu mu\":\n",
    "        return alpha_em/np.pi * np.log(e_high / e_low) * np.log(4*m_dm/m_mu)\n",
    "    elif fs == \"tau tau\":\n",
    "        return alpha_em/np.pi * np.log(e_high / e_low) * np.log(4*m_dm/m_tau)\n",
    "    else:\n",
    "        raise ValueError(\"Unknown final state\")\n",
    "\n",
    "def to_galactic_coords(r, th, phi, deg=True):\n",
    "    \"\"\"Converts from spherical coordinates centered on the GC to galactic coordinates.\"\"\"\n",
    "    x = r * np.sin(th) * np.cos(phi)\n",
    "    y = r * np.sin(th) * np.sin(phi)\n",
    "    z = r * np.cos(th)\n",
    "    \n",
    "    d = np.sqrt((x - d_earth)**2 + y**2 + z**2)\n",
    "    b = np.pi/2 - np.arccos(z / d)\n",
    "    l = np.arctan2(y, x - d_earth)\n",
    "    \n",
    "    if deg:\n",
    "        return np.stack([d, 180/np.pi*b, 180/np.pi*l])\n",
    "    else:\n",
    "        return np.stack([d, b, l])"
   ]
  },
  {
   "cell_type": "code",
   "execution_count": 114,
   "metadata": {},
   "outputs": [
    {
     "name": "stderr",
     "output_type": "stream",
     "text": [
      "/Users/acoogan/.pyenv/versions/3.6.5/lib/python3.6/site-packages/ipykernel_launcher.py:8: IntegrationWarning: The maximum number of subdivisions (50) has been achieved.\n",
      "  If increasing the limit yields no improvement it is advised to analyze \n",
      "  the integrand in order to determine the difficulties.  If the position of a \n",
      "  local difficulty can be determined (singularity, discontinuity) one will \n",
      "  probably gain from splitting up the interval and calling the integrator \n",
      "  on the subranges.  Perhaps a special-purpose integrator should be used.\n",
      "  \n"
     ]
    }
   ],
   "source": [
    "m_dm_gf = 100.  # GeV\n",
    "e_gf, dnde_gf = np.loadtxt(\"data/dnde_bb_gf.csv\").T\n",
    "e_gf *= m_dm_gf\n",
    "dnde_gf /= m_dm_gf\n",
    "\n",
    "dnde_gf_interp = scipy.interpolate.interp1d(e_gf, dnde_gf, bounds_error=False,\n",
    "                                            fill_value=0.)\n",
    "dnde_int_gf = scipy.integrate.quad(dnde_gf_interp, 0., m_dm_gf, epsabs=1e-99)\n",
    "\n",
    "def integral_dnde_gf(m_dm=100., e_low=1., e_high=100., fs=\"b b\"):\n",
    "    return dnde_int_gf[0]"
   ]
  },
  {
   "cell_type": "code",
   "execution_count": 142,
   "metadata": {
    "code_folding": []
   },
   "outputs": [],
   "source": [
    "class PBHHaloSim(object):\n",
    "    def __init__(self, mass_dist, f_pbh, m_dm=100, sv=3e-26, e_low=1, e_high=100,\n",
    "                 fs=\"g g\", dOmega=fermi_psf_solid_angle, b_cut=10, flux_thresh=4e-13):\n",
    "        self.mass_dist = mass_dist\n",
    "        self.f_pbh = f_pbh\n",
    "        self.m_dm = m_dm\n",
    "        self.sv = sv\n",
    "        self.e_low = e_low\n",
    "        self.e_high = e_high\n",
    "        self.fs = fs\n",
    "        self.dOmega = dOmega\n",
    "        self.b_cut = b_cut\n",
    "        self.flux_thresh = flux_thresh  # erg / cm^2 / s\n",
    "        \n",
    "    def r_samples(self, n=None):\n",
    "        if n is None:\n",
    "            n = self.n_samples\n",
    "        return np.random.gamma(shape=3/alpha_mw,\n",
    "                               scale=alpha_mw*r_s_mw**alpha_mw/2,\n",
    "                               size=n)**(1/alpha_mw)\n",
    "    \n",
    "    def th_samples(self):\n",
    "        return np.arccos(np.random.uniform(-self.slat_ms, self.slat_ms))\n",
    "    \n",
    "    def phi_samples(self):\n",
    "        return np.random.uniform(-self.phi_ms, self.phi_ms)\n",
    "    \n",
    "    def _gen_positions(self):\n",
    "        self.positions = np.stack([r_sample(self.n_samples),\n",
    "                                   self.th_samples(),\n",
    "                                   self.phi_samples()])\n",
    "        self.positions = to_galactic_coords(*self.positions)\n",
    "        \n",
    "    def _pbh_halo_ann_rates(self):\n",
    "        \"\"\"\n",
    "        Notes\n",
    "        -----\n",
    "        From Byrnes2019.\n",
    "\n",
    "        Returns\n",
    "        -------\n",
    "        UCMH annihilation rate in 1/s.\n",
    "        \"\"\"\n",
    "        rho_max = self.m_dm / (self.sv * age_of_universe * yr_to_s)\n",
    "        r_cut = 1.3e-7 * (100./self.m_dm * self.sv/3e-26)**(4/9) * (self.m_pbhs/1.)**(1/3)\n",
    "        units_factor = kpc_to_cm**3\n",
    "        # Added missing factor of 1/2\n",
    "        return 4*np.pi*self.sv*rho_max**2 * r_cut**3 / (2*self.m_dm**2) * units_factor\n",
    "    \n",
    "    def _gen_pbh_halos(self):\n",
    "        if isinstance(self.mass_dist, numbers.Number):\n",
    "            self.m_pbhs = self.mass_dist * np.ones(self.n_samples)\n",
    "            self.ann_rates = self._pbh_halo_ann_rates()\n",
    "            # Number of PBHs in the Milky Way halo\n",
    "            self.num_halo_pbhs = self.f_pbh * m_mw_dm / np.mean(self.m_pbhs)\n",
    "        else:\n",
    "            raise ValueError(\"Extended PBH mass functions are not supported yet\")\n",
    "\n",
    "    def _energy_fluxes(self, d):\n",
    "        \"\"\"Computes energy flux in 1 / cm^2 / s.\n",
    "        \"\"\"\n",
    "#         int_specs = integral_e_dnde(self.m_dm, self.e_low, self.e_high, self.fs)\n",
    "#         return self.ann_rates / (4*np.pi*(d*kpc_to_cm)**2) * int_dnde\n",
    "        int_dnde = integral_dnde_gf()\n",
    "        return 9e-10 * int_dnde / d**2 * self.sv / 1e-26\n",
    "    \n",
    "    def _num_detectable_pbh_halos(self, b_cut=None, flux_thresh=None):\n",
    "        if b_cut is not None:\n",
    "            self.b_cut = b_cut\n",
    "        if flux_thresh is not None:\n",
    "            self.flux_thresh = flux_thresh\n",
    "        # PBHs outside galactic plane\n",
    "        self.passed_b_cut_idx = np.abs(self.positions[1]) > self.b_cut\n",
    "        # PBHs above energy threshold\n",
    "        self.passed_e_thresh_idx = self.e_fluxes > self.flux_thresh\n",
    "        # Values in this array are set to one for PBHs passing all cuts\n",
    "        self.passed_cuts = np.zeros(self.n_samples)\n",
    "        self.passed_cuts[self.passed_b_cut_idx & self.passed_e_thresh_idx] = 1.\n",
    "        # Correct for sampling over particular solid angles\n",
    "        self.passed_cuts *= self.pr_solid_angle_correction\n",
    "        # Probability for a PBH in the MW halo to pass all cuts\n",
    "        self.pr_passed_cuts = np.mean(self.passed_cuts)\n",
    "        # 95% confidence interval on estimate of this probability\n",
    "        self.pr_passed_cuts_err = 1.96 * np.std(self.passed_cuts) / np.sqrt(self.n_samples)\n",
    "        # MC estimate for number of detectable PBHs in MW halo\n",
    "        self.num_detectable_pbhs = self.num_halo_pbhs * self.pr_passed_cuts\n",
    "        self.num_detectable_pbhs_err = self.num_halo_pbhs * self.pr_passed_cuts_err\n",
    "        return self.num_detectable_pbhs\n",
    "    \n",
    "    def _get_angular_dist_bounds(self, efficient_angular_sampling=False):\n",
    "        \"\"\"Determines bounds to be used for generating each PBH's angular coordinates\n",
    "        \"\"\"\n",
    "        if efficient_angular_sampling:\n",
    "            # Compute max distance from Earth at which PBH could be detected by Fermi\n",
    "            self.d_ms = np.sqrt(self._energy_fluxes(1) / self.flux_thresh)\n",
    "            self.slat_ms = np.ones_like(self.d_ms)  # sin of latitude from galactic plane\n",
    "            self.phi_ms = np.pi * np.ones_like(self.d_ms)\n",
    "            self.slat_ms[self.d_ms < d_earth] = self.d_ms[self.d_ms < d_earth] / d_earth\n",
    "            self.phi_ms[self.d_ms < d_earth] = np.arcsin(\n",
    "                self.d_ms[self.d_ms < d_earth] / d_earth)\n",
    "            # Determine correction for probability, making use of the fact that th_m can\n",
    "            # never be larger than pi, so cos(th_m) >= 1\n",
    "            self.pr_solid_angle_correction = 4*self.slat_ms * self.phi_ms / (4*np.pi)\n",
    "        else:\n",
    "            self.slat_ms = np.ones(self.n_samples)\n",
    "            self.phi_ms = np.pi * np.ones(self.n_samples)\n",
    "            self.pr_solid_angle_correction = np.ones(self.n_samples)\n",
    "    \n",
    "    def run(self, n_samples):\n",
    "        if not isinstance(self.mass_dist, numbers.Number):\n",
    "            raise ValueError(\"Extended PBH mass functions are not supported yet\")\n",
    "            \n",
    "        self.n_samples = n_samples\n",
    "        self._gen_pbh_halos()\n",
    "        self._get_angular_dist_bounds()  # must run before _gen_positions(), after _gen_pbh_halos()!\n",
    "        self._gen_positions()\n",
    "        self.e_fluxes = self._energy_fluxes(self.positions[0])\n",
    "        self._num_detectable_pbh_halos()\n",
    "        return self.num_detectable_pbhs"
   ]
  },
  {
   "cell_type": "markdown",
   "metadata": {},
   "source": [
    "Validating against Gf + Zentner"
   ]
  },
  {
   "cell_type": "code",
   "execution_count": 143,
   "metadata": {},
   "outputs": [
    {
     "name": "stdout",
     "output_type": "stream",
     "text": [
      "# det PBHs = 0.16459351934407285 +/- 0.0003352353068850799\n"
     ]
    }
   ],
   "source": [
    "sim = PBHHaloSim(mass_dist=1e5, f_pbh=3.16e-6, m_dm=100., sv=3e-26)\n",
    "print(\"# det PBHs = {} +/- {}\".format(sim.run(300000), sim.num_detectable_pbhs_err))"
   ]
  },
  {
   "cell_type": "code",
   "execution_count": 144,
   "metadata": {},
   "outputs": [],
   "source": [
    "n_det_pbhs = []\n",
    "flux_threshs = np.logspace(-13, -3)\n",
    "\n",
    "for flux_thresh in flux_threshs:\n",
    "    sim = PBHHaloSim(mass_dist=1e6, f_pbh=0.009*1.6, m_dm=100., sv=3e-26,\n",
    "                     flux_thresh=flux_thresh, b_cut=10.)\n",
    "    n_det_pbhs.append(sim.run(300000))"
   ]
  },
  {
   "cell_type": "code",
   "execution_count": 145,
   "metadata": {},
   "outputs": [
    {
     "data": {
      "text/plain": [
       "[<matplotlib.lines.Line2D at 0x13424df60>]"
      ]
     },
     "execution_count": 145,
     "metadata": {},
     "output_type": "execute_result"
    },
    {
     "data": {
      "image/png": "[encoded data removed]",
      "text/plain": [
       "<Figure size 625x437.5 with 1 Axes>"
      ]
     },
     "metadata": {},
     "output_type": "display_data"
    }
   ],
   "source": [
    "flux_threshs_gf, n_det_pbhs_gf = np.loadtxt(\"data/n_det_pbhs_gf.csv\").T\n",
    "\n",
    "plt.loglog(flux_threshs, n_det_pbhs)\n",
    "plt.loglog(flux_threshs_gf, n_det_pbhs_gf, '--')"
   ]
  },
  {
   "cell_type": "markdown",
   "metadata": {},
   "source": [
    "Use clever sampling trick"
   ]
  },
  {
   "cell_type": "code",
   "execution_count": 4,
   "metadata": {},
   "outputs": [
    {
     "name": "stdout",
     "output_type": "stream",
     "text": [
      "# det PBHs = 3097.6322320005197 +/- 78.96460066944367\n"
     ]
    }
   ],
   "source": [
    "sim = PBHHaloSim(mass_dist=10., f_pbh=1e-3, m_dm=100., sv=1e-45)\n",
    "print(\"# det PBHs = {} +/- {}\".format(sim.run(3000000), sim.num_detectable_pbhs_err))"
   ]
  },
  {
   "cell_type": "code",
   "execution_count": 7,
   "metadata": {},
   "outputs": [
    {
     "name": "stdout",
     "output_type": "stream",
     "text": [
      "# det PBHs = 221853.8970868753 +/- 4558.416085340868\n"
     ]
    }
   ],
   "source": [
    "# sim = PBHHaloSim(mass_dist=30., f_pbh=2e-9, m_dm=100., sv=3e-40)\n",
    "sim = PBHHaloSim(mass_dist=0.5, f_pbh=1e-3, m_dm=100., sv=1e-40)\n",
    "print(\"# det PBHs = {} +/- {}\".format(sim.run(3000000), sim.num_detectable_pbhs_err))"
   ]
  },
  {
   "cell_type": "code",
   "execution_count": 126,
   "metadata": {},
   "outputs": [
    {
     "data": {
      "image/png": "[encoded data removed]",
      "text/plain": [
       "<Figure size 432x288 with 1 Axes>"
      ]
     },
     "metadata": {
      "image/png": {
       "height": 276,
       "width": 384
      },
      "needs_background": "light"
     },
     "output_type": "display_data"
    }
   ],
   "source": [
    "plt.hist(np.log10(sim.e_fluxes), bins=np.linspace(-19, -7))\n",
    "plt.axvline(np.log10(sim.e_flux_thresh), color='r', linestyle='--')\n",
    "\n",
    "plt.title(\"Energy fluxes of sampled PBHs\")\n",
    "plt.xlabel(r\"$\\log_{10} F / (\\mathrm{erg}/\\mathrm{cm}^2\\mathrm{s})$\")\n",
    "plt.ylabel(\"\\#\")\n",
    "plt.yscale(\"log\")"
   ]
  },
  {
   "cell_type": "markdown",
   "metadata": {},
   "source": [
    "Only need to scan over $(m_\\chi, \\langle \\sigma v \\rangle)$ grid since $N_{\\mathrm{obs}}^{\\gamma-\\mathrm{srcs}}$ scales as $f_{\\mathrm{PBH}}$!"
   ]
  },
  {
   "cell_type": "code",
   "execution_count": 157,
   "metadata": {},
   "outputs": [],
   "source": [
    "m_pbhs = np.logspace(-1, 2, 25)\n",
    "n_det_pbhs = []\n",
    "n_det_pbhs_err = []\n",
    "for m_pbh in m_pbhs:\n",
    "    sim = PBHHaloSim(mass_dist=m_pbh, f_pbh=5e-9, m_dm=100., sv=3e-26)\n",
    "    n_det_pbhs.append(sim.run(1000000))\n",
    "    n_det_pbhs_err.append(sim.num_detectable_pbhs_err)\n",
    "n_det_pbhs = np.array(n_det_pbhs)\n",
    "n_det_pbhs_err = np.array(n_det_pbhs_err)"
   ]
  },
  {
   "cell_type": "code",
   "execution_count": 159,
   "metadata": {},
   "outputs": [
    {
     "data": {
      "text/plain": [
       "Text(0.5, 1.0, '$f_{\\\\mathrm{PBH}} = 10^{-9}$, $m_{\\\\mathrm{DM}}=100$ GeV, $\\\\langle \\\\sigma v \\\\rangle = 3\\\\times 10^{-26}$ cm$^3$/s, $E_{\\\\mathrm{thresh}}=4\\\\times 10^{-13}$ erg/s')"
      ]
     },
     "execution_count": 159,
     "metadata": {},
     "output_type": "execute_result"
    },
    {
     "data": {
      "image/png": "[encoded data removed]",
      "text/plain": [
       "<Figure size 432x288 with 1 Axes>"
      ]
     },
     "metadata": {
      "image/png": {
       "height": 277,
       "width": 430
      },
      "needs_background": "light"
     },
     "output_type": "display_data"
    }
   ],
   "source": [
    "plt.errorbar(m_pbhs, n_det_pbhs, yerr=n_det_pbhs_err, fmt='.')\n",
    "plt.xscale(\"log\")\n",
    "# plt.yscale(\"log\")\n",
    "plt.xlabel(r\"$M_{\\mathrm{PBH}}$ ($M_\\odot$)\")\n",
    "plt.ylabel(r\"$N_{\\mathrm{det}}$\")\n",
    "plt.title(r\"$f_{\\mathrm{PBH}} = 10^{-9}$, $m_{\\mathrm{DM}}=100$ GeV, \"\n",
    "          r\"$\\langle \\sigma v \\rangle = 3\\times 10^{-26}$ cm$^3$/s, $E_{\\mathrm{thresh}}=4\\times 10^{-13}$ erg/s\")"
   ]
  },
  {
   "cell_type": "markdown",
   "metadata": {},
   "source": [
    "Comparison with Visinelli's paper"
   ]
  },
  {
   "cell_type": "code",
   "execution_count": 10,
   "metadata": {},
   "outputs": [],
   "source": [
    "num_anns = []\n",
    "m_pbhs = np.logspace(-18, -4)\n",
    "\n",
    "for m in m_pbhs:\n",
    "    sim = PBHHaloSim(m, f_pbh=1, m_dm=10e3)\n",
    "    sim.run(1)\n",
    "    num_anns.append(sim._pbh_halo_ann_rates())# * erg_to_GeV / sim.m_dm)\n",
    "num_anns = np.array(num_anns)"
   ]
  },
  {
   "cell_type": "code",
   "execution_count": 11,
   "metadata": {},
   "outputs": [
    {
     "data": {
      "text/plain": [
       "[<matplotlib.lines.Line2D at 0x1406105c0>]"
      ]
     },
     "execution_count": 11,
     "metadata": {},
     "output_type": "execute_result"
    },
    {
     "data": {
      "image/png": "[encoded data removed]",
      "text/plain": [
       "<Figure size 432x288 with 1 Axes>"
      ]
     },
     "metadata": {
      "image/png": {
       "height": 249,
       "width": 375
      },
      "needs_background": "light"
     },
     "output_type": "display_data"
    }
   ],
   "source": [
    "plt.loglog(m_pbhs, num_anns)"
   ]
  },
  {
   "cell_type": "markdown",
   "metadata": {},
   "source": [
    "Byrnes' gamma-ray constraints. I find that he's over-optimistic by a factor of 1/3."
   ]
  },
  {
   "cell_type": "code",
   "execution_count": 30,
   "metadata": {},
   "outputs": [],
   "source": [
    "def constrain_f_pbh(m_pbh, m_dm=100, sv=3e-26):\n",
    "    # Replicate Byrnes2019 constraints\n",
    "    rho_max = m_dm / (sv * age_of_universe * yr_to_s)\n",
    "    # kpc\n",
    "    r_cut = (sv / 3e-26)**(4/9) * (m_dm / 100)**(-4/9) * (m_pbh / 1.)**(1/3) * 1.3e-7\n",
    "    Gamma_pbh = 4*np.pi*sv*rho_max**2*r_cut**3 / m_dm**2 * kpc_to_cm**3\n",
    "    Gamma_dm = 1e-28  # 1/s\n",
    "    return Gamma_dm/Gamma_pbh * m_pbh*m_sun_to_GeV/m_dm"
   ]
  },
  {
   "cell_type": "code",
   "execution_count": 31,
   "metadata": {},
   "outputs": [
    {
     "data": {
      "text/plain": [
       "Text(0.5, 1.0, '$M_{\\\\mathrm{PBH}} = 30 M_\\\\odot$')"
      ]
     },
     "execution_count": 31,
     "metadata": {},
     "output_type": "execute_result"
    },
    {
     "data": {
      "image/png": "[encoded data removed]",
      "text/plain": [
       "<Figure size 432x288 with 1 Axes>"
      ]
     },
     "metadata": {
      "image/png": {
       "height": 276,
       "width": 383
      },
      "needs_background": "light"
     },
     "output_type": "display_data"
    }
   ],
   "source": [
    "m_dms = np.logspace(1, 4)\n",
    "\n",
    "plt.plot(m_dms, [constrain_f_pbh(30., m_dm) for m_dm in m_dms])\n",
    "plt.xscale(\"log\")\n",
    "\n",
    "plt.xlabel(r\"$m_{\\mathrm{DM}}$ (GeV)\")\n",
    "plt.ylabel(r\"$f_{\\mathrm{PBH}}$\")\n",
    "plt.title(r\"$M_{\\mathrm{PBH}} = 30 M_\\odot$\")"
   ]
  },
  {
   "cell_type": "code",
   "execution_count": null,
   "metadata": {},
   "outputs": [],
   "source": []
  },
  {
   "cell_type": "markdown",
   "metadata": {
    "heading_collapsed": true
   },
   "source": [
    "# Notes: point sources vs diffuse"
   ]
  },
  {
   "cell_type": "markdown",
   "metadata": {
    "hidden": true
   },
   "source": [
    "Plugging in $M_{\\mathrm{PBH}} = 30 M_\\odot$, $f=10^{-8}$ and assuming a uniform angular distribution, we can compute the average angular radius around each PBH that does not contain another PBH. This angle is 50 times larger than Fermi's PSF. Since in reality sources are not uniformly distributed on the sky, this is a bit of an underestimate. **This means Byrnes' analysis is inconsistent: at such low $f$s, you need to perform a point source analysis to properly constrain $f$.**"
   ]
  },
  {
   "cell_type": "code",
   "execution_count": 57,
   "metadata": {
    "hidden": true
   },
   "outputs": [
    {
     "name": "stdout",
     "output_type": "stream",
     "text": [
      "<th_sep> / fermi_psf = 47.036560\n"
     ]
    }
   ],
   "source": [
    "n_pbhs_in_mw = 1e-8*(m_mw_dm / 30.)\n",
    "avg_pbh_angular_sep = 2*np.sqrt((4*np.pi / n_pbhs_in_mw) / np.pi) / fermi_psf\n",
    "print(\"<th_sep> / fermi_psf = %f\" % avg_pbh_angular_sep)"
   ]
  },
  {
   "cell_type": "markdown",
   "metadata": {
    "hidden": true
   },
   "source": [
    "Let's instead consider $f = 10^{-3}$ and $M_{\\mathrm{PBH}} = 0.5 M_\\odot$, which are interesting numbers for LIGO O3. In this case the average separation is much smaller than Fermi's PSF. This means the DM self-annihilation cross section must be very small for a point source search to be valid."
   ]
  },
  {
   "cell_type": "code",
   "execution_count": 58,
   "metadata": {
    "hidden": true
   },
   "outputs": [
    {
     "name": "stdout",
     "output_type": "stream",
     "text": [
      "<th_sep> / fermi_psf = 0.019203\n"
     ]
    }
   ],
   "source": [
    "n_pbhs_in_mw = 1e-3*(m_mw_dm / 0.5)\n",
    "avg_pbh_angular_sep = 2*np.sqrt((4*np.pi / n_pbhs_in_mw) / np.pi) / fermi_psf\n",
    "print(\"<th_sep> / fermi_psf = %f\" % avg_pbh_angular_sep)"
   ]
  },
  {
   "cell_type": "markdown",
   "metadata": {
    "heading_collapsed": true
   },
   "source": [
    "# Multiprocessing"
   ]
  },
  {
   "cell_type": "code",
   "execution_count": 5,
   "metadata": {
    "hidden": true
   },
   "outputs": [],
   "source": [
    "import multiprocessing as mp"
   ]
  },
  {
   "cell_type": "code",
   "execution_count": 40,
   "metadata": {
    "hidden": true
   },
   "outputs": [
    {
     "data": {
      "text/plain": [
       "[1, 8, 27, 64, 125, 216]"
      ]
     },
     "execution_count": 40,
     "metadata": {},
     "output_type": "execute_result"
    },
    {
     "name": "stderr",
     "output_type": "stream",
     "text": [
      "Process ForkPoolWorker-21:\n",
      "Process ForkPoolWorker-19:\n",
      "Process ForkPoolWorker-18:\n",
      "Process ForkPoolWorker-20:\n",
      "Traceback (most recent call last):\n",
      "Traceback (most recent call last):\n",
      "Traceback (most recent call last):\n",
      "Traceback (most recent call last):\n",
      "  File \"/Users/acoogan/.pyenv/versions/3.6.5/lib/python3.6/multiprocessing/process.py\", line 258, in _bootstrap\n",
      "    self.run()\n",
      "  File \"/Users/acoogan/.pyenv/versions/3.6.5/lib/python3.6/multiprocessing/process.py\", line 258, in _bootstrap\n",
      "    self.run()\n",
      "  File \"/Users/acoogan/.pyenv/versions/3.6.5/lib/python3.6/multiprocessing/process.py\", line 258, in _bootstrap\n",
      "    self.run()\n",
      "  File \"/Users/acoogan/.pyenv/versions/3.6.5/lib/python3.6/multiprocessing/process.py\", line 258, in _bootstrap\n",
      "    self.run()\n",
      "  File \"/Users/acoogan/.pyenv/versions/3.6.5/lib/python3.6/multiprocessing/process.py\", line 93, in run\n",
      "    self._target(*self._args, **self._kwargs)\n",
      "  File \"/Users/acoogan/.pyenv/versions/3.6.5/lib/python3.6/multiprocessing/process.py\", line 93, in run\n",
      "    self._target(*self._args, **self._kwargs)\n",
      "  File \"/Users/acoogan/.pyenv/versions/3.6.5/lib/python3.6/multiprocessing/process.py\", line 93, in run\n",
      "    self._target(*self._args, **self._kwargs)\n",
      "  File \"/Users/acoogan/.pyenv/versions/3.6.5/lib/python3.6/multiprocessing/process.py\", line 93, in run\n",
      "    self._target(*self._args, **self._kwargs)\n",
      "  File \"/Users/acoogan/.pyenv/versions/3.6.5/lib/python3.6/multiprocessing/pool.py\", line 108, in worker\n",
      "    task = get()\n",
      "  File \"/Users/acoogan/.pyenv/versions/3.6.5/lib/python3.6/multiprocessing/pool.py\", line 108, in worker\n",
      "    task = get()\n",
      "  File \"/Users/acoogan/.pyenv/versions/3.6.5/lib/python3.6/multiprocessing/pool.py\", line 108, in worker\n",
      "    task = get()\n",
      "  File \"/Users/acoogan/.pyenv/versions/3.6.5/lib/python3.6/multiprocessing/pool.py\", line 108, in worker\n",
      "    task = get()\n",
      "  File \"/Users/acoogan/.pyenv/versions/3.6.5/lib/python3.6/multiprocessing/queues.py\", line 334, in get\n",
      "    with self._rlock:\n",
      "  File \"/Users/acoogan/.pyenv/versions/3.6.5/lib/python3.6/multiprocessing/queues.py\", line 335, in get\n",
      "    res = self._reader.recv_bytes()\n",
      "  File \"/Users/acoogan/.pyenv/versions/3.6.5/lib/python3.6/multiprocessing/queues.py\", line 334, in get\n",
      "    with self._rlock:\n",
      "  File \"/Users/acoogan/.pyenv/versions/3.6.5/lib/python3.6/multiprocessing/queues.py\", line 334, in get\n",
      "    with self._rlock:\n",
      "  File \"/Users/acoogan/.pyenv/versions/3.6.5/lib/python3.6/multiprocessing/synchronize.py\", line 96, in __enter__\n",
      "    return self._semlock.__enter__()\n",
      "  File \"/Users/acoogan/.pyenv/versions/3.6.5/lib/python3.6/multiprocessing/connection.py\", line 216, in recv_bytes\n",
      "    buf = self._recv_bytes(maxlength)\n",
      "  File \"/Users/acoogan/.pyenv/versions/3.6.5/lib/python3.6/multiprocessing/synchronize.py\", line 96, in __enter__\n",
      "    return self._semlock.__enter__()\n",
      "  File \"/Users/acoogan/.pyenv/versions/3.6.5/lib/python3.6/multiprocessing/synchronize.py\", line 96, in __enter__\n",
      "    return self._semlock.__enter__()\n",
      "KeyboardInterrupt\n",
      "  File \"/Users/acoogan/.pyenv/versions/3.6.5/lib/python3.6/multiprocessing/connection.py\", line 407, in _recv_bytes\n",
      "    buf = self._recv(4)\n",
      "KeyboardInterrupt\n",
      "KeyboardInterrupt\n",
      "  File \"/Users/acoogan/.pyenv/versions/3.6.5/lib/python3.6/multiprocessing/connection.py\", line 379, in _recv\n",
      "    chunk = read(handle, remaining)\n",
      "KeyboardInterrupt\n"
     ]
    }
   ],
   "source": [
    "def cube(x):\n",
    "    return x**3\n",
    "\n",
    "pool = mp.Pool(processes=4)\n",
    "results = [pool.apply(cube, args=(x,)) for x in range(1, 7)]\n",
    "\n",
    "results"
   ]
  },
  {
   "cell_type": "code",
   "execution_count": 52,
   "metadata": {
    "hidden": true
   },
   "outputs": [],
   "source": [
    "n_samples = 10000000\n",
    "positions = np.stack([r_dist.rvs(n_samples),\n",
    "                      np.arccos(cos_th_dist.rvs(n_samples)),\n",
    "                      phi_dist.rvs(n_samples)])"
   ]
  },
  {
   "cell_type": "code",
   "execution_count": 51,
   "metadata": {
    "hidden": true
   },
   "outputs": [
    {
     "name": "stderr",
     "output_type": "stream",
     "text": [
      "Process ForkPoolWorker-36:\n",
      "Process ForkPoolWorker-35:\n",
      "Process ForkPoolWorker-34:\n",
      "Traceback (most recent call last):\n",
      "Traceback (most recent call last):\n",
      "Traceback (most recent call last):\n",
      "  File \"/Users/acoogan/.pyenv/versions/3.6.5/lib/python3.6/multiprocessing/process.py\", line 258, in _bootstrap\n",
      "    self.run()\n",
      "  File \"/Users/acoogan/.pyenv/versions/3.6.5/lib/python3.6/multiprocessing/process.py\", line 258, in _bootstrap\n",
      "    self.run()\n",
      "  File \"/Users/acoogan/.pyenv/versions/3.6.5/lib/python3.6/multiprocessing/process.py\", line 93, in run\n",
      "    self._target(*self._args, **self._kwargs)\n",
      "  File \"/Users/acoogan/.pyenv/versions/3.6.5/lib/python3.6/multiprocessing/process.py\", line 258, in _bootstrap\n",
      "    self.run()\n",
      "  File \"/Users/acoogan/.pyenv/versions/3.6.5/lib/python3.6/multiprocessing/process.py\", line 93, in run\n",
      "    self._target(*self._args, **self._kwargs)\n",
      "  File \"/Users/acoogan/.pyenv/versions/3.6.5/lib/python3.6/multiprocessing/pool.py\", line 108, in worker\n",
      "    task = get()\n",
      "  File \"/Users/acoogan/.pyenv/versions/3.6.5/lib/python3.6/multiprocessing/pool.py\", line 108, in worker\n",
      "    task = get()\n",
      "  File \"/Users/acoogan/.pyenv/versions/3.6.5/lib/python3.6/multiprocessing/process.py\", line 93, in run\n",
      "    self._target(*self._args, **self._kwargs)\n",
      "  File \"/Users/acoogan/.pyenv/versions/3.6.5/lib/python3.6/multiprocessing/pool.py\", line 108, in worker\n",
      "    task = get()\n",
      "  File \"/Users/acoogan/.pyenv/versions/3.6.5/lib/python3.6/multiprocessing/queues.py\", line 334, in get\n",
      "    with self._rlock:\n",
      "  File \"/Users/acoogan/.pyenv/versions/3.6.5/lib/python3.6/multiprocessing/queues.py\", line 335, in get\n",
      "    res = self._reader.recv_bytes()\n",
      "  File \"/Users/acoogan/.pyenv/versions/3.6.5/lib/python3.6/multiprocessing/queues.py\", line 334, in get\n",
      "    with self._rlock:\n",
      "  File \"/Users/acoogan/.pyenv/versions/3.6.5/lib/python3.6/multiprocessing/synchronize.py\", line 96, in __enter__\n",
      "    return self._semlock.__enter__()\n",
      "  File \"/Users/acoogan/.pyenv/versions/3.6.5/lib/python3.6/multiprocessing/connection.py\", line 216, in recv_bytes\n",
      "    buf = self._recv_bytes(maxlength)\n",
      "  File \"/Users/acoogan/.pyenv/versions/3.6.5/lib/python3.6/multiprocessing/synchronize.py\", line 96, in __enter__\n",
      "    return self._semlock.__enter__()\n",
      "KeyboardInterrupt\n",
      "  File \"/Users/acoogan/.pyenv/versions/3.6.5/lib/python3.6/multiprocessing/connection.py\", line 407, in _recv_bytes\n",
      "    buf = self._recv(4)\n",
      "KeyboardInterrupt\n",
      "  File \"/Users/acoogan/.pyenv/versions/3.6.5/lib/python3.6/multiprocessing/connection.py\", line 379, in _recv\n",
      "    chunk = read(handle, remaining)\n",
      "KeyboardInterrupt\n"
     ]
    }
   ],
   "source": [
    "def gen_point(n):\n",
    "    return [r_dist.rvs(n), np.arccos(cos_th_dist.rvs(n), phi_dist.rvs(n))]\n",
    "\n",
    "# n_samples = 10000000\n",
    "n_proc = 3\n",
    "pool = mp.Pool(n_proc)\n",
    "results = [pool.apply(gen_point, args=(n,)) for n in n_proc * [int(np.ceil(n_samples/n_proc))]]"
   ]
  },
  {
   "cell_type": "code",
   "execution_count": null,
   "metadata": {
    "hidden": true
   },
   "outputs": [],
   "source": []
  }
 ],
 "metadata": {
  "kernelspec": {
   "display_name": "Python 3",
   "language": "python",
   "name": "python3"
  },
  "language_info": {
   "codemirror_mode": {
    "name": "ipython",
    "version": 3
   },
   "file_extension": ".py",
   "mimetype": "text/x-python",
   "name": "python",
   "nbconvert_exporter": "python",
   "pygments_lexer": "ipython3",
   "version": "3.6.5"
  }
 },
 "nbformat": 4,
 "nbformat_minor": 2
}
