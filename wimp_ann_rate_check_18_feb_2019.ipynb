{
 "cells": [
  {
   "cell_type": "code",
   "execution_count": 22,
   "metadata": {},
   "outputs": [],
   "source": [
    "import matplotlib.pyplot as plt\n",
    "import numpy as np\n",
    "\n",
    "from constants import m_mw_dm, h_hubble\n",
    "from pbhhalosim import PBHHaloSim"
   ]
  },
  {
   "cell_type": "code",
   "execution_count": 50,
   "metadata": {},
   "outputs": [],
   "source": [
    "factor_inf = 1/3 + 1 / (2*9/4 - 3)"
   ]
  },
  {
   "cell_type": "code",
   "execution_count": 36,
   "metadata": {},
   "outputs": [],
   "source": [
    "sim = PBHHaloSim(mass_dist=1e3, f_pbh=1, m_dm=10)\n",
    "# Generate radial samples\n",
    "rs = sim._radial_samples(10000000)\n",
    "# Annihilation plateau radius. Same for all PBH halos.\n",
    "r_cut = h_hubble * 1.3e-7 * (100./sim.m_dm * sim.sv/3e-26)**(4/9) * (sim.mass_dist/1.)**(1/3)"
   ]
  },
  {
   "cell_type": "code",
   "execution_count": 31,
   "metadata": {},
   "outputs": [],
   "source": [
    "def r_tidal(m_pbh, r):\n",
    "    return r * (m_pbh / m_mw_dm)**(1/3)\n",
    "\n",
    "# PBHs' tidal radii, assuming circular orbits\n",
    "r_tidals = r_tidal(sim.mass_dist, rs)"
   ]
  },
  {
   "cell_type": "code",
   "execution_count": 40,
   "metadata": {},
   "outputs": [],
   "source": [
    "factors_tidal = 1 - 2/3 * (r_cut / r_tidals)**(3/2)"
   ]
  },
  {
   "cell_type": "code",
   "execution_count": 43,
   "metadata": {},
   "outputs": [
    {
     "data": {
      "text/plain": [
       "(0.8193205078816286, 0.9999999999978669)"
      ]
     },
     "execution_count": 43,
     "metadata": {},
     "output_type": "execute_result"
    }
   ],
   "source": [
    "factors_tidal.min(), factors_tidal.max()"
   ]
  },
  {
   "cell_type": "code",
   "execution_count": 49,
   "metadata": {},
   "outputs": [
    {
     "data": {
      "image/png": "[encoded data removed]",
      "text/plain": [
       "<Figure size 432x288 with 1 Axes>"
      ]
     },
     "metadata": {
      "image/png": {
       "height": 249,
       "width": 372
      },
      "needs_background": "light"
     },
     "output_type": "display_data"
    }
   ],
   "source": [
    "plt.hist(factors_tidal, density=True, bins=np.linspace(factors_tidal.min(), factors_tidal.max(), 100));"
   ]
  },
  {
   "cell_type": "code",
   "execution_count": null,
   "metadata": {},
   "outputs": [],
   "source": []
  }
 ],
 "metadata": {
  "kernelspec": {
   "display_name": "Python 3",
   "language": "python",
   "name": "python3"
  },
  "language_info": {
   "codemirror_mode": {
    "name": "ipython",
    "version": 3
   },
   "file_extension": ".py",
   "mimetype": "text/x-python",
   "name": "python",
   "nbconvert_exporter": "python",
   "pygments_lexer": "ipython3",
   "version": "3.6.5"
  }
 },
 "nbformat": 4,
 "nbformat_minor": 2
}
